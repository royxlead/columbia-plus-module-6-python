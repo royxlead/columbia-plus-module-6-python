{
 "cells": [
  {
   "cell_type": "code",
   "execution_count": 5,
   "id": "dc70b7b2",
   "metadata": {},
   "outputs": [],
   "source": [
    "from __future__ import division\n",
    "import numpy as np\n",
    "import sys\n",
    "\n",
    "X_train = np.genfromtxt('X_train.csv', delimiter=\",\")\n",
    "y_train = np.genfromtxt('y_train.csv')\n",
    "X_test = np.genfromtxt('X_test_all.csv', delimiter=\",\")\n",
    "\n"
   ]
  },
  {
   "cell_type": "code",
   "execution_count": 6,
   "id": "282d2f88",
   "metadata": {},
   "outputs": [],
   "source": [
    "## can make more functions if required\n",
    "\n",
    "\n",
    "def pluginClassifier(X_train, y_train, X_test):    \n",
    "  # this function returns the required output \n",
    "   # Ensure shapes\n",
    "    if y_train.ndim > 1:\n",
    "        y_train = y_train.ravel()\n",
    "\n",
    "    # Get unique classes (keeps label values, e.g., 0..9)\n",
    "    classes = np.unique(y_train).astype(int)\n",
    "    K = len(classes)\n",
    "    n, d = X_train.shape\n",
    "\n",
    "    # Allocate dicts for parameters\n",
    "    priors = {}\n",
    "    means = {}\n",
    "    covs_inv = {}     # store inverses for speed\n",
    "    covs_logdet = {}  # store log-determinants for log-density\n",
    "    eps = 1e-6        # covariance regularization\n",
    "\n",
    "    # Estimate per-class parameters (MLE)\n",
    "    for k in classes:\n",
    "        Xk = X_train[y_train == k]\n",
    "        Nk = Xk.shape[0]\n",
    "\n",
    "        # Prior\n",
    "        priors[k] = Nk / float(n)\n",
    "\n",
    "        # Mean\n",
    "        mu_k = Xk.mean(axis=0)\n",
    "        means[k] = mu_k\n",
    "\n",
    "        # Full covariance (MLE uses 1/Nk factor; np.cov default is 1/(Nk-1))\n",
    "        # We'll compute manually to control the divisor:\n",
    "        diff = Xk - mu_k\n",
    "        # (Nk x d)^T @ (Nk x d) -> (d x d)\n",
    "        Sigma_k = (diff.T @ diff) / float(Nk)\n",
    "        # Regularize for numerical stability\n",
    "        Sigma_k += eps * np.eye(d)\n",
    "\n",
    "        # Precompute inverse and logdet for the Gaussian log-likelihood\n",
    "        try:\n",
    "            sign, logdet = np.linalg.slogdet(Sigma_k)\n",
    "            if sign <= 0:\n",
    "                # Fallback if numerical issues\n",
    "                # Increase regularization and recompute\n",
    "                Sigma_k += (10 * eps) * np.eye(d)\n",
    "                sign, logdet = np.linalg.slogdet(Sigma_k)\n",
    "        except np.linalg.LinAlgError:\n",
    "            # As a last resort, add more regularization\n",
    "            Sigma_k += (100 * eps) * np.eye(d)\n",
    "            sign, logdet = np.linalg.slogdet(Sigma_k)\n",
    "\n",
    "        Sigma_inv_k = np.linalg.inv(Sigma_k)\n",
    "\n",
    "        covs_inv[k] = Sigma_inv_k\n",
    "        covs_logdet[k] = logdet\n",
    "\n",
    "    # Predict for X_test using log posterior:\n",
    "    # log p(y=k|x) ∝ log pi_k - 0.5[(x-μ)^T Σ^{-1} (x-μ) + log det Σ + d log(2π)]\n",
    "    const_term = d * np.log(2.0 * np.pi)\n",
    "\n",
    "    y_pred = np.empty(X_test.shape[0], dtype=int)\n",
    "    for i, x in enumerate(X_test):\n",
    "        best_k = None\n",
    "        best_score = -np.inf\n",
    "        for k in classes:\n",
    "            mu = means[k]\n",
    "            inv = covs_inv[k]\n",
    "            logdet = covs_logdet[k]\n",
    "\n",
    "            diff = x - mu\n",
    "            # Mahalanobis term\n",
    "            mquad = diff @ inv @ diff\n",
    "            log_likelihood = -0.5 * (mquad + logdet + const_term)\n",
    "\n",
    "            log_prior = np.log(priors[k] + 1e-12)  # safe log\n",
    "            score = log_prior + log_likelihood\n",
    "\n",
    "            if score > best_score:\n",
    "                best_score = score\n",
    "                best_k = k\n",
    "\n",
    "        y_pred[i] = best_k\n",
    "\n",
    "    return y_pred\n"
   ]
  },
  {
   "cell_type": "code",
   "execution_count": 7,
   "id": "d4c1227a",
   "metadata": {},
   "outputs": [],
   "source": [
    "final_outputs = pluginClassifier(X_train, y_train, X_test) # assuming final_outputs is returned from function"
   ]
  },
  {
   "cell_type": "code",
   "execution_count": 8,
   "id": "675aca62",
   "metadata": {},
   "outputs": [
    {
     "name": "stdout",
     "output_type": "stream",
     "text": [
      "Predictions saved to y_pred.csv\n"
     ]
    }
   ],
   "source": [
    "np.savetxt(\"y_pred.csv\", final_outputs, fmt=\"%d\", delimiter=\",\")\n",
    "print(\"Predictions saved to y_pred.csv\")"
   ]
  }
 ],
 "metadata": {
  "kernelspec": {
   "display_name": "Python 3",
   "language": "python",
   "name": "python3"
  },
  "language_info": {
   "codemirror_mode": {
    "name": "ipython",
    "version": 3
   },
   "file_extension": ".py",
   "mimetype": "text/x-python",
   "name": "python",
   "nbconvert_exporter": "python",
   "pygments_lexer": "ipython3",
   "version": "3.13.5"
  }
 },
 "nbformat": 4,
 "nbformat_minor": 5
}
